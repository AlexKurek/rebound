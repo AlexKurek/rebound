{
 "cells": [
  {
   "cell_type": "markdown",
   "metadata": {},
   "source": [
    "# User Defined Rebound Collision Resolutions\n",
    "In the `CloseEncounter` example, we discuss methods for resolving collisions in REBOUND through exceptions and the use of the `sim.collision_resolve = \"merge\"` method.\n",
    "\n",
    "Using the same 3-Body setup, let's explore how to define and implement bespoke collision resolutions in python and pass them to the `sim.collision_resolve` method."
   ]
  },
  {
   "cell_type": "code",
   "execution_count": 1,
   "metadata": {},
   "outputs": [
    {
     "output_type": "error",
     "ename": "ModuleNotFoundError",
     "evalue": "No module named 'rebound'",
     "traceback": [
      "\u001b[0;31m---------------------------------------------------------------------------\u001b[0m",
      "\u001b[0;31mModuleNotFoundError\u001b[0m                       Traceback (most recent call last)",
      "\u001b[0;32m<ipython-input-1-d4b13919f46e>\u001b[0m in \u001b[0;36m<module>\u001b[0;34m\u001b[0m\n\u001b[0;32m----> 1\u001b[0;31m \u001b[0;32mimport\u001b[0m \u001b[0mrebound\u001b[0m\u001b[0;34m\u001b[0m\u001b[0;34m\u001b[0m\u001b[0m\n\u001b[0m\u001b[1;32m      2\u001b[0m \u001b[0;32mimport\u001b[0m \u001b[0mnumpy\u001b[0m \u001b[0;32mas\u001b[0m \u001b[0mnp\u001b[0m\u001b[0;34m\u001b[0m\u001b[0;34m\u001b[0m\u001b[0m\n\u001b[1;32m      3\u001b[0m \u001b[0;34m\u001b[0m\u001b[0m\n\u001b[1;32m      4\u001b[0m \u001b[0;32mdef\u001b[0m \u001b[0msetupSimulation\u001b[0m\u001b[0;34m(\u001b[0m\u001b[0;34m)\u001b[0m\u001b[0;34m:\u001b[0m\u001b[0;34m\u001b[0m\u001b[0;34m\u001b[0m\u001b[0m\n\u001b[1;32m      5\u001b[0m     \u001b[0;34m''' Setup the 3-Body scenario'''\u001b[0m\u001b[0;34m\u001b[0m\u001b[0;34m\u001b[0m\u001b[0m\n",
      "\u001b[0;31mModuleNotFoundError\u001b[0m: No module named 'rebound'"
     ]
    }
   ],
   "source": [
    "import rebound\n",
    "import numpy as np\n",
    "\n",
    "def setupSimulation():\n",
    "    ''' Setup the 3-Body scenario'''\n",
    "    sim = rebound.Simulation()\n",
    "    sim.integrator = \"ias15\" # IAS15 is the default integrator, so we don't need this line\n",
    "    sim.add(m=1.)\n",
    "    sim.add(m=1e-3, a=1., r=np.sqrt(1e-3/3.)) # we now set collision radii!\n",
    "    sim.add(m=5e-3, a=1.25, r=1.25*np.sqrt(5e-3/3.))\n",
    "    sim.move_to_com()\n",
    "    return sim"
   ]
  },
  {
   "source": [
    "To reitterate the previous method, let's run the built-in `merge` collision resolution method"
   ],
   "cell_type": "markdown",
   "metadata": {}
  },
  {
   "cell_type": "code",
   "execution_count": 8,
   "metadata": {},
   "outputs": [
    {
     "name": "stdout",
     "output_type": "stream",
     "text": [
      "Particles in the simulation at t=   0.0: 3\n",
      "Particles in the simulation at t= 100.0: 2\n"
     ]
    }
   ],
   "source": [
    "sim = setupSimulation()\n",
    "sim.collision = \"direct\"\n",
    "sim.collision_resolve = \"merge\" # Built in function\n",
    "\n",
    "print(\"Particles in the simulation at t=%6.1f: %d\"%(sim.t,sim.N))\n",
    "sim.integrate(100.)\n",
    "print(\"Particles in the simulation at t=%6.1f: %d\"%(sim.t,sim.N))"
   ]
  },
  {
   "cell_type": "markdown",
   "metadata": {},
   "source": [
    "We can also use the built-in collision detection and apply our own function to resolve the collision. By default, if we don't set the sim.collision function pointer, `REBOUND` will raise a `Collision` exception when a collision occurs, which we can catch. \n",
    "\n",
    "An indirect way of checking which particles collided is to check which ones have a `lastcollision` time equal to the current simulation time."
   ]
  },
  {
   "cell_type": "code",
   "execution_count": 9,
   "metadata": {},
   "outputs": [
    {
     "name": "stdout",
     "output_type": "stream",
     "text": [
      "Particles [1, 2] collided\n"
     ]
    }
   ],
   "source": [
    "sim = setupSimulation()\n",
    "sim.collision = \"direct\"\n",
    "# we don't set sim.collision_resolve this time\n",
    "\n",
    "try:\n",
    "    sim.integrate(100.)\n",
    "except rebound.Collision:\n",
    "    collided = []\n",
    "    for p in sim.particles:\n",
    "        if p.lastcollision == sim.t:\n",
    "            collided.append(p.index)\n",
    "    # Custom resolution\n",
    "\n",
    "print(\"Particles {0} collided\".format(collided))"
   ]
  },
  {
   "cell_type": "code",
   "execution_count": null,
   "metadata": {},
   "outputs": [],
   "source": []
  }
 ],
 "metadata": {
  "kernelspec": {
   "display_name": "Python 3",
   "language": "python",
   "name": "python3"
  },
  "language_info": {
   "codemirror_mode": {
    "name": "ipython",
    "version": 3
   },
   "file_extension": ".py",
   "mimetype": "text/x-python",
   "name": "python",
   "nbconvert_exporter": "python",
   "pygments_lexer": "ipython3",
   "version": "3.9.1-final"
  }
 },
 "nbformat": 4,
 "nbformat_minor": 1
}