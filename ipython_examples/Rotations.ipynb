{
 "cells": [
  {
   "cell_type": "markdown",
   "id": "ba32220e",
   "metadata": {},
   "source": [
    "# Rotations\n",
    "\n",
    "This gives an introduction to some of the functionality in REBOUND for typically encountered rotations in celestial mechanics.\n",
    "\n",
    "REBOUND has a general `Rotation` class. Let's make one that rotates counterclockwise by 45 degrees around the z axis [0,0,1]"
   ]
  },
  {
   "cell_type": "code",
   "execution_count": 1,
   "id": "e12cb8f6",
   "metadata": {},
   "outputs": [],
   "source": [
    "import rebound\n",
    "import numpy as np\n",
    "\n",
    "rot = rebound.Rotation(angle=np.radians(45), axis=[0,0,1])"
   ]
  },
  {
   "cell_type": "markdown",
   "id": "e34d9a17",
   "metadata": {},
   "source": [
    "A rotation can act on various objects. For example, we can act on any vector:"
   ]
  },
  {
   "cell_type": "code",
   "execution_count": 2,
   "id": "b060b7d4",
   "metadata": {},
   "outputs": [
    {
     "data": {
      "text/plain": [
       "[0.0, 1.4142135623730951, 1.0]"
      ]
     },
     "execution_count": 2,
     "metadata": {},
     "output_type": "execute_result"
    }
   ],
   "source": [
    "result = rot*[1,1,1]\n",
    "result"
   ]
  },
  {
   "cell_type": "markdown",
   "id": "9b8ebb1e",
   "metadata": {},
   "source": [
    "We can also get the inverse of any rotation object:"
   ]
  },
  {
   "cell_type": "code",
   "execution_count": 3,
   "id": "c35dd4cd",
   "metadata": {},
   "outputs": [
    {
     "data": {
      "text/plain": [
       "[1.0, 1.0, 1.0]"
      ]
     },
     "execution_count": 3,
     "metadata": {},
     "output_type": "execute_result"
    }
   ],
   "source": [
    "rot.inverse()*result"
   ]
  },
  {
   "cell_type": "markdown",
   "id": "63020a64",
   "metadata": {},
   "source": [
    "We can combine rotations. Here we first rotate around z axis by 90 degrees, then around the x axis by 90 degrees (order matters!)"
   ]
  },
  {
   "cell_type": "code",
   "execution_count": 4,
   "id": "e9308e6a",
   "metadata": {},
   "outputs": [
    {
     "data": {
      "text/plain": [
       "[-0.9999999999999996, -0.9999999999999998, 1.0000000000000004]"
      ]
     },
     "execution_count": 4,
     "metadata": {},
     "output_type": "execute_result"
    }
   ],
   "source": [
    "r1 = rebound.Rotation(angle=np.radians(90), axis=[0,0,1])\n",
    "r2 = rebound.Rotation(angle=np.radians(90), axis=[1,0,0])\n",
    "r2*r1*[1,1,1]"
   ]
  },
  {
   "cell_type": "markdown",
   "id": "f553db19",
   "metadata": {},
   "source": [
    "# Useful Rotations\n",
    "\n",
    "The `Rotation` class offers alternate constructors for various useful rotations. Let's make a simplified Solar System:"
   ]
  },
  {
   "cell_type": "code",
   "execution_count": 5,
   "id": "f9d937a2",
   "metadata": {},
   "outputs": [
    {
     "name": "stdout",
     "output_type": "stream",
     "text": [
      "Searching NASA Horizons for 'Sun'... \n",
      "Found: Sun (10) \n",
      "Searching NASA Horizons for 'Jupiter'... \n",
      "Found: Jupiter Barycenter (5) (chosen from query 'Jupiter')\n",
      "Searching NASA Horizons for 'Saturn'... \n",
      "Found: Saturn Barycenter (6) (chosen from query 'Saturn')\n"
     ]
    }
   ],
   "source": [
    "sim = rebound.Simulation()\n",
    "date = \"2023-01-01 00:00\"\n",
    "sim.add('Sun')\n",
    "sim.add('Jupiter')\n",
    "sim.add('Saturn', hash='Saturn')\n",
    "sim.move_to_com()\n",
    "ps = sim.particles"
   ]
  },
  {
   "cell_type": "markdown",
   "id": "5f99aae1",
   "metadata": {},
   "source": [
    "Let's construct a rotation from our reference axes (the HORIZONS queries we're using default to the ecliptic as the reference plane, see Horizons.ipynb) to reference axes aligned with Saturn's orbit (where the new z direction is along the orbit normal, and x direction is toward pericenter)."
   ]
  },
  {
   "cell_type": "code",
   "execution_count": 6,
   "id": "71dd8e16",
   "metadata": {},
   "outputs": [
    {
     "data": {
      "text/plain": [
       "[-5.757103045199742, -7.966390021506616, 1.199040866595169e-14]"
      ]
     },
     "execution_count": 6,
     "metadata": {},
     "output_type": "execute_result"
    }
   ],
   "source": [
    "rot = rebound.Rotation.to_orbital(Omega=ps['Saturn'].Omega, inc=ps['Saturn'].inc, omega=ps['Saturn'].omega)\n",
    "rot*ps['Saturn'].xyz"
   ]
  },
  {
   "cell_type": "markdown",
   "id": "bedf73d8",
   "metadata": {},
   "source": [
    "When we act our rotation on Saturn's xyz position (in our original coordinate system, in AU), we see we get a vector with vanishing z component (good since Saturn should be in its own orbital plane!), and that Saturn is a bit past apocenter (both x and y are negative).\n",
    "\n",
    "We could also use the inverse of this rotation, e.g., to easily get the direction toward Saturn's pericenter in our ecliptic coordinate system. In the axes aligned with Saturn's orbit, pericenter is in the x ([1,0,0]) direction, so in the ecliptic coordinate system we have"
   ]
  },
  {
   "cell_type": "code",
   "execution_count": 7,
   "id": "89779f01",
   "metadata": {},
   "outputs": [
    {
     "data": {
      "text/plain": [
       "[-0.033243160362501856, 0.9993183063134097, -0.016056617203241773]"
      ]
     },
     "execution_count": 7,
     "metadata": {},
     "output_type": "execute_result"
    }
   ],
   "source": [
    "rot.inverse()*[1,0,0]"
   ]
  },
  {
   "cell_type": "markdown",
   "id": "4d2be7c4",
   "metadata": {},
   "source": [
    "Now say we realize that the ecliptic plane should have very little to do with the dynamics of Saturn and Jupiter, and we want to rotate into the invariable plane, where the z direction points along the total angular momentum. We can do:"
   ]
  },
  {
   "cell_type": "code",
   "execution_count": 8,
   "id": "0c3c39ef",
   "metadata": {},
   "outputs": [],
   "source": [
    "rot = rebound.Rotation.to_new_axes(newz=sim.calculate_angular_momentum())"
   ]
  },
  {
   "cell_type": "markdown",
   "id": "88919802",
   "metadata": {},
   "source": [
    "We could also have passed a `newx` vector perpendicular to newz in order to specify the new x direction. If we don't, it defaults sensibly to the line of nodes at the intersection between our reference plane (here the ecliptic) and our new reference plane (perpendicular to newz, here the invariable plane)--specifically the z cross newz direction.\n",
    "\n",
    "We can now, e.g., get Saturn's position (or any other vector) in our new coordinate system:"
   ]
  },
  {
   "cell_type": "code",
   "execution_count": 10,
   "id": "bf693526",
   "metadata": {},
   "outputs": [
    {
     "data": {
      "text/plain": [
       "[-7.550940414537042, -6.291937086342272, -0.04931536707994988]"
      ]
     },
     "execution_count": 10,
     "metadata": {},
     "output_type": "execute_result"
    }
   ],
   "source": [
    "rot*ps['Saturn'].xyz"
   ]
  },
  {
   "cell_type": "markdown",
   "id": "f020014f",
   "metadata": {},
   "source": [
    "However, we might also want to rotate our entire Simulation into this new coordinate system, so the z axis is always a physically meaningful direction. We can do that simply with:"
   ]
  },
  {
   "cell_type": "code",
   "execution_count": 11,
   "id": "ce9d96b3",
   "metadata": {},
   "outputs": [
    {
     "name": "stdout",
     "output_type": "stream",
     "text": [
      "[8.371972018903151e-05, 2.435788542866555e-05, 0.0030550236872849933]\n",
      "[-8.470329472543003e-22, -2.710505431213761e-20, 0.0030562676630170155]\n"
     ]
    }
   ],
   "source": [
    "print(sim.calculate_angular_momentum())\n",
    "sim.rotate(rot)\n",
    "print(sim.calculate_angular_momentum())"
   ]
  },
  {
   "cell_type": "markdown",
   "id": "97edf2b3",
   "metadata": {},
   "source": [
    "We see that before rotating our Simulation, the angular momentum was almost, but not quite along the z direction (the ecliptic is of course close to the invariable plane!), but after the rotation, the x and y components are at the level of the machine precision."
   ]
  },
  {
   "cell_type": "markdown",
   "id": "1a30caee",
   "metadata": {},
   "source": [
    "# Technical Detail: Copies vs in-place rotations\n",
    "\n",
    "As a general rule, `Rotation` * `object` always returns a copy. For example, we can also act a `Rotation` on a `Particle`:"
   ]
  },
  {
   "cell_type": "code",
   "execution_count": 14,
   "id": "11d99b73",
   "metadata": {},
   "outputs": [
    {
     "data": {
      "text/plain": [
       "(2.9905677930888617, 8.147064178851359)"
      ]
     },
     "execution_count": 14,
     "metadata": {},
     "output_type": "execute_result"
    }
   ],
   "source": [
    "ecliptic_saturn = rot.inverse() * sim.particles['Saturn']\n",
    "ecliptic_saturn.x, sim.particles['Saturn'].x"
   ]
  },
  {
   "cell_type": "markdown",
   "id": "2ac2f7a9",
   "metadata": {},
   "source": [
    "our rotated vector and our particle yield different x positions (because the rotation didn't affect the `sim.particles['Saturn']` we used as input). When we call the `rotate` method on a rebound object, the object is updated accordingly. For example, if we wanted to update Saturn with a rotated position (and velocity) in our Simulation, we could do:"
   ]
  },
  {
   "cell_type": "code",
   "execution_count": 15,
   "id": "e9a1ccd1",
   "metadata": {},
   "outputs": [
    {
     "data": {
      "text/plain": [
       "(2.9905677930888617, 2.9905677930888617)"
      ]
     },
     "execution_count": 15,
     "metadata": {},
     "output_type": "execute_result"
    }
   ],
   "source": [
    "sim.particles['Saturn'].rotate(rot.inverse())\n",
    "ecliptic_saturn.x, sim.particles['Saturn'].x"
   ]
  },
  {
   "cell_type": "markdown",
   "id": "2ac88909",
   "metadata": {},
   "source": [
    "Now we see that the two yield the same x value, since we've actually updated the positions of the particle in our simulation. \n",
    "\n",
    "In most use cases, we probably want to rotate a Simulation in place with `sim.rotate(rot)`. If we do `rot*sim` we get back a shallow copy that doesn't keep any of our function pointers (see `sim.copy()`)."
   ]
  },
  {
   "cell_type": "code",
   "execution_count": null,
   "id": "8f57cb68",
   "metadata": {},
   "outputs": [],
   "source": []
  }
 ],
 "metadata": {
  "kernelspec": {
   "display_name": "Python 3 (ipykernel)",
   "language": "python",
   "name": "python3"
  },
  "language_info": {
   "codemirror_mode": {
    "name": "ipython",
    "version": 3
   },
   "file_extension": ".py",
   "mimetype": "text/x-python",
   "name": "python",
   "nbconvert_exporter": "python",
   "pygments_lexer": "ipython3",
   "version": "3.10.4"
  }
 },
 "nbformat": 4,
 "nbformat_minor": 5
}
